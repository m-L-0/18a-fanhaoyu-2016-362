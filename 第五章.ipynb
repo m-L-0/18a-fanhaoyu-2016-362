{
 "cells": [
  {
   "cell_type": "code",
   "execution_count": 2,
   "metadata": {},
   "outputs": [
    {
     "name": "stderr",
     "output_type": "stream",
     "text": [
      "D:\\all_python\\anaconda\\lib\\site-packages\\h5py\\__init__.py:36: FutureWarning: Conversion of the second argument of issubdtype from `float` to `np.floating` is deprecated. In future, it will be treated as `np.float64 == np.dtype(float).type`.\n",
      "  from ._conv import register_converters as _register_converters\n"
     ]
    }
   ],
   "source": [
    "import tensorflow as tf\n"
   ]
  },
  {
   "cell_type": "code",
   "execution_count": 11,
   "metadata": {},
   "outputs": [
    {
     "name": "stdout",
     "output_type": "stream",
     "text": [
      "[0.66613567]\n"
     ]
    }
   ],
   "source": [
    "with tf.variable_scope('lr') as scope:\n",
    "    tf.Variable([3], name='W')\n",
    "    tf.Variable([2], name='b')\n",
    "    tf.placeholder(tf.int32, name='x')\n",
    "with tf.variable_scope('lr', reuse=tf.AUTO_REUSE): \n",
    "    W = tf.get_variable('W', shape=[1])\n",
    "    b = tf.get_variable('b', shape=[1])\n",
    "    x = tf.get_variable('x', shape=[1])\n",
    "with tf.Session() as sess:\n",
    "    reg = tf.multiply(W,x) + b\n",
    "    lr = tf.nn.sigmoid(reg)\n",
    "    sess.run(tf.global_variables_initializer())\n",
    "    print(sess.run(lr,feed_dict={x:[5]}))\n",
    "    "
   ]
  },
  {
   "cell_type": "code",
   "execution_count": null,
   "metadata": {},
   "outputs": [],
   "source": []
  },
  {
   "cell_type": "code",
   "execution_count": null,
   "metadata": {},
   "outputs": [],
   "source": []
  },
  {
   "cell_type": "code",
   "execution_count": null,
   "metadata": {},
   "outputs": [],
   "source": []
  }
 ],
 "metadata": {
  "kernelspec": {
   "display_name": "Python 3",
   "language": "python",
   "name": "python3"
  },
  "language_info": {
   "codemirror_mode": {
    "name": "ipython",
    "version": 3
   },
   "file_extension": ".py",
   "mimetype": "text/x-python",
   "name": "python",
   "nbconvert_exporter": "python",
   "pygments_lexer": "ipython3",
   "version": "3.6.5"
  }
 },
 "nbformat": 4,
 "nbformat_minor": 2
}
