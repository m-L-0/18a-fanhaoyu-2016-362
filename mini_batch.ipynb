{
 "cells": [
  {
   "cell_type": "code",
   "execution_count": 1,
   "metadata": {},
   "outputs": [],
   "source": [
    "import numpy as np"
   ]
  },
  {
   "cell_type": "code",
   "execution_count": 3,
   "metadata": {},
   "outputs": [],
   "source": [
    "def sigmoid(x):\n",
    "    out = 1 / (1 + np.exp(-x))\n",
    "    return out"
   ]
  },
  {
   "cell_type": "code",
   "execution_count": 5,
   "metadata": {},
   "outputs": [],
   "source": [
    "def sgn(x):\n",
    "    if x > 0:\n",
    "        return 1\n",
    "    elif x < 0:\n",
    "        return -1\n",
    "    else:\n",
    "        return 0"
   ]
  },
  {
   "cell_type": "code",
   "execution_count": 1,
   "metadata": {},
   "outputs": [],
   "source": [
    "%matplotlib inline\n",
    "import numpy as np\n",
    "from matplotlib import pyplot as plt"
   ]
  },
  {
   "cell_type": "code",
   "execution_count": 2,
   "metadata": {},
   "outputs": [],
   "source": [
    "def model(X, W, b):\n",
    "    '''模型\n",
    "\n",
    "    Args:\n",
    "        X: 模型输入向量\n",
    "        W: 模型连接权重向量\n",
    "        b: 模型的偏置值\n",
    "\n",
    "    Return:\n",
    "        返回模型输出结果\n",
    "    '''\n",
    "    X = np.array(X)\n",
    "    \n",
    "    return np.sum(X * W) + b"
   ]
  },
  {
   "cell_type": "code",
   "execution_count": 36,
   "metadata": {},
   "outputs": [],
   "source": [
    "import itertools\n",
    "from sklearn.datasets import make_regression\n",
    "from sklearn.model_selection import train_test_split\n",
    "from sklearn.decomposition import PCA\n",
    "\n",
    "num_train = 10000\n",
    "num_test = 100\n",
    "\n",
    "train_x, test_x, train_y, test_y = [itertools.cycle(i) for i in train_test_split(data[0], data[1], test_size=num_test)]"
   ]
  },
  {
   "cell_type": "code",
   "execution_count": 37,
   "metadata": {},
   "outputs": [
    {
     "data": {
      "text/plain": [
       "Text(0,0.5,'losses')"
      ]
     },
     "execution_count": 37,
     "metadata": {},
     "output_type": "execute_result"
    },
    {
     "data": {
      "image/png": "[encoded data removed]",
      "text/plain": [
       "<Figure size 1000x500 with 1 Axes>"
      ]
     },
     "metadata": {},
     "output_type": "display_data"
    }
   ],
   "source": [
    "from sklearn.metrics import mean_squared_error as mse\n",
    "\n",
    "\n",
    "train_steps = 2000   # 训练次数\n",
    "lr = 0.01                    # 学习率\n",
    "Summary_step = 16   # 摘要频率 \n",
    "Summary = []            # 摘要\n",
    "mini_batch = 16\n",
    "\n",
    "\n",
    "\n",
    "W = np.random.randn(2)  # 初始化连接权重\n",
    "b = 0   \n",
    "\n",
    "\n",
    "#初始化累计梯度值\n",
    "sum_dw = 0\n",
    "sum_db =0\n",
    "\n",
    "\n",
    "# 初始化偏置值\n",
    "for i in range(train_steps):\n",
    "    # 摘要\n",
    "    if i % summary_step == 0:\n",
    "        tmp = []\n",
    "        for j in range(num_test):\n",
    "            X = next(test_x)\n",
    "            label = next(test_y)\n",
    "            out = model(X, W, b)\n",
    "            tmp.append(np.array([label, out]))\n",
    "            \n",
    "        tmp = np.array(tmp)\n",
    "        # 计算均方误差代价\n",
    "        loss = mse(tmp[:, 0], tmp[:, 1])\n",
    "        Summary.append(np.array([i + 1, loss]))\n",
    "\n",
    "    # 获得一个样本，并输入模型得到模型输出结果\n",
    "    X = next(train_x)\n",
    "    label = next(train_y)\n",
    "    out = model(X, W, b)\n",
    "    \n",
    "    \n",
    "    \n",
    "    \n",
    "    # 计算偏导数并更新模型参数\n",
    "    dW = -X * (label - out)\n",
    "    db = -1 * (label - out)\n",
    "    \n",
    "    sum_dw += dW\n",
    "    sum_db += db\n",
    "    \n",
    "    #梯度累加到 mini_batch 大小\n",
    "    if i % mini_batch == 0 or i == train_steps:\n",
    "        if i == train_steps:\n",
    "            W = W - lr * sum_dw / (train_steps % mini_batch)\n",
    "            b = b - lr * sum_db / (train_steps % mini_batch)\n",
    "        else:\n",
    "            W = W - lr * sum_dw / mini_batch\n",
    "            b = b - lr * sum_db / mini_batch\n",
    "        sum_dw = 0\n",
    "        sum_db = 0\n",
    "\n",
    "    \n",
    "    \n",
    "\n",
    "# 可视化摘要\n",
    "summary = np.array(Summary)    \n",
    "plt.figure(figsize=[10, 5], dpi=100)\n",
    "plt.plot(summary[:, 0], summary[:, 1])\n",
    "plt.xlabel('step')\n",
    "plt.ylabel('losses')"
   ]
  },
  {
   "cell_type": "code",
   "execution_count": null,
   "metadata": {},
   "outputs": [],
   "source": []
  }
 ],
 "metadata": {
  "kernelspec": {
   "display_name": "Python 3",
   "language": "python",
   "name": "python3"
  },
  "language_info": {
   "codemirror_mode": {
    "name": "ipython",
    "version": 3
   },
   "file_extension": ".py",
   "mimetype": "text/x-python",
   "name": "python",
   "nbconvert_exporter": "python",
   "pygments_lexer": "ipython3",
   "version": "3.6.5"
  }
 },
 "nbformat": 4,
 "nbformat_minor": 2
}
