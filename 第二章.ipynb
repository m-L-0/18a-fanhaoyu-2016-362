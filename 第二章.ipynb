{
 "cells": [
  {
   "cell_type": "code",
   "execution_count": 13,
   "metadata": {},
   "outputs": [
    {
     "name": "stdout",
     "output_type": "stream",
     "text": [
      "Tensor(\"Add_8:0\", shape=(), dtype=int32)\n",
      "Tensor(\"Add_8:0\", shape=(), dtype=int32)\n"
     ]
    }
   ],
   "source": [
    "import tensorflow as tf\n",
    "x = 3\n",
    "y = 5\n",
    "\n",
    "g1 = tf.get_default_graph()\n",
    "with g1.as_default():\n",
    "    add_op = tf.add(x, y)\n",
    "    with tf.Session() as sess:\n",
    "        sess.run(add_op)\n",
    "        print(add_op)\n",
    "with tf.Session(graph=g1) as sess:\n",
    "    sess.run(add_op)\n",
    "    print(add_op)\n",
    "\n",
    "    "
   ]
  },
  {
   "cell_type": "code",
   "execution_count": 18,
   "metadata": {},
   "outputs": [],
   "source": [
    "a,b = 2,3\n",
    "c = 3.6\n",
    "with tf.Session() as sess:\n",
    "    Add = tf.add(a,b)\n",
    "    Subtract = tf.subtract(a,b)\n",
    "    Mutiply = tf.multiply(a,b)\n",
    "    Divide = tf.divide(a,b)\n",
    "    Mod = tf.mod(a,b)\n",
    "    Pow = tf.pow(a,b)\n",
    "    Square = tf.square(a)\n",
    "    Sqrt = tf.sqrt(c)"
   ]
  },
  {
   "cell_type": "code",
   "execution_count": null,
   "metadata": {},
   "outputs": [],
   "source": []
  },
  {
   "cell_type": "code",
   "execution_count": null,
   "metadata": {},
   "outputs": [],
   "source": []
  }
 ],
 "metadata": {
  "kernelspec": {
   "display_name": "Python 3",
   "language": "python",
   "name": "python3"
  },
  "language_info": {
   "codemirror_mode": {
    "name": "ipython",
    "version": 3
   },
   "file_extension": ".py",
   "mimetype": "text/x-python",
   "name": "python",
   "nbconvert_exporter": "python",
   "pygments_lexer": "ipython3",
   "version": "3.6.5"
  }
 },
 "nbformat": 4,
 "nbformat_minor": 2
}
